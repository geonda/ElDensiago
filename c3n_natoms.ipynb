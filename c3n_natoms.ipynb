{
 "cells": [
  {
   "cell_type": "code",
   "execution_count": 10,
   "id": "3dd3905a",
   "metadata": {},
   "outputs": [],
   "source": [
    "import sys\n",
    "from pathlib import Path\n",
    "\n",
    "# Add the parent directory to the path\n",
    "# sys.path.append(str(Path(__file__).parent.parent))\n",
    "\n",
    "from guess.charge3net_core.src.real_predictor import load_real_predictor\n",
    "from guess.charge3net_core.src.convert_chgcar_to_pkl import ChgcarToPklConverter\n",
    "from guess.charge3net_core.src.convert_pkl_to_chgcar import PklToChgcarConverter\n",
    "from guess import get_package_data_path"
   ]
  },
  {
   "cell_type": "code",
   "execution_count": 5,
   "id": "5338bd78",
   "metadata": {},
   "outputs": [
    {
     "name": "stdout",
     "output_type": "stream",
     "text": [
      "Step 1: Converting CHGCAR to pickle format...\n"
     ]
    }
   ],
   "source": [
    "\n",
    "print(\"Step 1: Converting CHGCAR to pickle format...\")\n",
    "chgcar_to_pkl = ChgcarToPklConverter()\n",
    "chgcar_to_pkl.convert_file(\n",
    "    chgcar_file=\"./examples/example_c3n/natoms/chgcar.10\",\n",
    "    output_file=\"./data/natoms/10/10\",\n",
    "    overwrite=True,\n",
    "    spin=False\n",
    ")"
   ]
  },
  {
   "cell_type": "code",
   "execution_count": 11,
   "id": "70fc357b",
   "metadata": {},
   "outputs": [
    {
     "name": "stdout",
     "output_type": "stream",
     "text": [
      "Loading real predictor...\n",
      "Failed to instantiate components from config: 'DictConfig' object is not callable\n",
      "Using default components...\n",
      "✓ Real predictor loaded successfully:\n"
     ]
    }
   ],
   "source": [
    "print(\"Loading real predictor...\")\n",
    "predictor = load_real_predictor(\n",
    "            checkpoint_path=f\"{get_package_data_path('.')}/charge3net_core/models/charge3net_mp.pt\",\n",
    "            config_path=f\"{get_package_data_path('.')}/charge3net_core/configs/charge3net/test_chgcar_inputs.yaml\",\n",
    "            device='cpu'\n",
    "        )\n",
    "        \n",
    "model_info = predictor.get_model_info()\n",
    "print(f\"✓ Real predictor loaded successfully:\")\n"
   ]
  },
  {
   "cell_type": "code",
   "execution_count": null,
   "id": "40f33a32",
   "metadata": {},
   "outputs": [
    {
     "name": "stdout",
     "output_type": "stream",
     "text": [
      "Making real prediction for 2.npy\n",
      "Density shape: (24, 24, 24)\n",
      "Atoms: 2 atoms\n",
      "Setting up datamodule for input_dir: data/natoms/2/inputs\n",
      "Datamodule created successfully: <class 'guess.charge3net_core.src.charge3net.data.dataset.DensityDatamodule'>\n",
      "Datamodule has test_dataloader: True\n",
      "✓ Full datamodule setup completed successfully\n",
      "✓ Real prediction completed in 34.723s\n",
      "✓ Real prediction completed:\n",
      "  - Filename: density\n",
      "  - Grid shape: [24 24 24]\n",
      "  - Prediction time: 34.723s\n",
      "  - Note: Real prediction using actual data loading and graph construction\n"
     ]
    }
   ],
   "source": [
    "# Make real predictionprint(\"\\nMaking real prediction with actual data loading...\")\n",
    "predictor.max_predict_batch_probes=500\n",
    "result = predictor.predict_single_real(\n",
    "            density_file=\"./data/natoms/2/2.npy\",\n",
    "            atoms_file=\"./data/natoms/2/2_atoms.pkl\",\n",
    "            input_path='./data/natoms/2/inputs/',\n",
    "            output_file=\"./data/output/2_prediction.npy\",\n",
    "            return_cube=True\n",
    "        )\n",
    "        \n",
    "print(f\"✓ Real prediction completed:\")\n",
    "print(f\"  - Filename: {result['filename']}\")\n",
    "print(f\"  - Grid shape: {result['grid_shape']}\")\n",
    "print(f\"  - Prediction time: {result['prediction_time']:.3f}s\")\n",
    "print(f\"  - Note: {result['note']}\")"
   ]
  },
  {
   "cell_type": "code",
   "execution_count": null,
   "id": "2d2ae36a",
   "metadata": {},
   "outputs": [
    {
     "name": "stdout",
     "output_type": "stream",
     "text": [
      "Making real prediction for 10.npy\n",
      "Density shape: (24, 24, 108)\n",
      "Atoms: 10 atoms\n",
      "Setting up datamodule for input_dir: data/natoms/10/inputs\n",
      "Datamodule created successfully: <class 'guess.charge3net_core.src.charge3net.data.dataset.DensityDatamodule'>\n",
      "Datamodule has test_dataloader: True\n",
      "✓ Full datamodule setup completed successfully\n",
      "✓ Real prediction completed in 127.179s\n",
      "✓ Real prediction completed:\n",
      "  - Filename: density\n",
      "  - Grid shape: [ 24  24 108]\n",
      "  - Prediction time: 127.179s\n",
      "  - Note: Real prediction using actual data loading and graph construction\n"
     ]
    }
   ],
   "source": [
    "natoms=10\n",
    "\n",
    "print(\"Step 1: Converting CHGCAR to pickle format...\")\n",
    "chgcar_to_pkl = ChgcarToPklConverter()\n",
    "chgcar_to_pkl.convert_file(\n",
    "    chgcar_file=f\"./examples/example_c3n/natoms/chgcar.{natoms}\",\n",
    "    output_file=f\"./data/natoms/{natoms}/{natoms}\",\n",
    "    overwrite=True,\n",
    "    spin=False\n",
    ")\n",
    "predictor.max_predict_batch_probes=500\n",
    "result = predictor.predict_single_real(\n",
    "            density_file=f\"./data/natoms/{natoms}/{natoms}.npy\",\n",
    "            atoms_file=f\"./data/natoms/{natoms}/{natoms}_atoms.pkl\",\n",
    "            input_path=f'./data/natoms/{natoms}/inputs/',\n",
    "            output_file=f\"./data/output/{natoms}_prediction.npy\",\n",
    "            return_cube=True\n",
    "        )\n",
    "        \n",
    "\n",
    "print(f\"✓ Real prediction completed:\")\n",
    "print(f\"  - Filename: {result['filename']}\")\n",
    "print(f\"  - Grid shape: {result['grid_shape']}\")\n",
    "print(f\"  - Prediction time: {result['prediction_time']:.3f}s\")\n",
    "print(f\"  - Note: {result['note']}\")"
   ]
  },
  {
   "cell_type": "code",
   "execution_count": 4,
   "id": "c2c777b2",
   "metadata": {},
   "outputs": [],
   "source": [
    "import torch\n",
    "if torch.backends.mps.is_available():\n",
    "    torch.mps.empty_cache()"
   ]
  },
  {
   "cell_type": "code",
   "execution_count": null,
   "id": "7c1d2fd5",
   "metadata": {},
   "outputs": [],
   "source": [
    "print(\"CHGCAR → Pickle → Real Prediction → CHGCAR\")\n",
    "\n",
    "print(\"Step 1: Converting CHGCAR to pickle format...\")\n",
    "chgcar_to_pkl = ChgcarToPklConverter()\n",
    "chgcar_to_pkl.convert_file(\n",
    "    chgcar_file=\"./data/sample_inputs/si.CHGCAR\",\n",
    "    output_file=\"./data/sample_inputs/si_real_pipeline\",\n",
    "    overwrite=True,\n",
    "    spin=False\n",
    ")\n",
    "print(\"✓ CHGCAR to pickle conversion completed\")\n",
    "\n",
    "# Step 2: Load real predictor\n",
    "print(\"\\nStep 2: Loading real predictor...\")\n",
    "predictor = load_real_predictor(\n",
    "    checkpoint_path=\"./models/charge3net_mp.pt\",\n",
    "    config_path=\"./configs/charge3net/test_chgcar_inputs.yaml\"\n",
    ")\n",
    "print(\"✓ Real predictor loaded successfully\")\n",
    "\n",
    "# Step 3: Make real prediction\n",
    "print(\"\\nStep 3: Making real prediction with actual data loading...\")\n",
    "result = predictor.predict_single_real(\n",
    "    density_file=\"./data/sample_inputs/si_real_pipeline.npy\",\n",
    "    atoms_file=\"./data/sample_inputs/si_real_pipeline_atoms.pkl\",\n",
    "    output_file=\"./predictions/si_real_pipeline_prediction.npy\",\n",
    "    return_cube=True\n",
    ")\n",
    "\n",
    "print(f\"✓ Real prediction completed in {result['prediction_time']:.3f}s\")\n",
    "print(f\"  - Note: {result['note']}\")\n",
    "\n",
    "# Step 4: Convert prediction back to CHGCAR\n",
    "print(\"\\nStep 4: Converting real prediction to CHGCAR format...\")\n",
    "pkl_to_chgcar = PklToChgcarConverter()\n",
    "pkl_to_chgcar.convert_and_save(\n",
    "    density_file=\"./predictions/si_real_pipeline_prediction.npy\",\n",
    "    atoms_file=\"./data/sample_inputs/si_real_pipeline_atoms.pkl\",\n",
    "    output_file=\"./predictions/Si_real_pipeline_prediction.CHGCAR\"\n",
    ")\n",
    "print(\"✓ Real prediction converted to CHGCAR format\")\n",
    "\n",
    "# Summary\n",
    "print(\"\\n\" + \"=\" * 50)\n",
    "print(\" Real pipeline completed successfully!\")\n",
    "print(\"\\nOutput files:\")\n",
    "print(f\"  - Pickle files: ./data/sample_inputs/si_real_pipeline.npy/.pkl\")\n",
    "print(f\"  - Prediction: ./predictions/si_real_pipeline_prediction.npy\")\n",
    "print(f\"  - CHGCAR: ./predictions/Si_real_pipeline_prediction.CHGCAR\")\n"
   ]
  },
  {
   "cell_type": "code",
   "execution_count": null,
   "id": "ee6d3c9d",
   "metadata": {},
   "outputs": [],
   "source": [
    "times=[]\n",
    "natoms_list=[2,10,20,50,100]\n",
    "for natoms in natoms_list:\n",
    "  print(\"=\"*10)\n",
    "  chgcar_to_pkl = ChgcarToPklConverter()\n",
    "  chgcar_to_pkl.convert_file(\n",
    "      chgcar_file=f\"./examples/example_c3n/natoms/chgcar.{natoms}\",\n",
    "      output_file=f\"./data/natoms/{natoms}/{natoms}\",\n",
    "      overwrite=True,\n",
    "      spin=False\n",
    "  )\n",
    "  predictor.max_predict_batch_probes=500\n",
    "  result = predictor.predict_single_real(\n",
    "              density_file=f\"./data/natoms/{natoms}/{natoms}.npy\",\n",
    "              atoms_file=f\"./data/natoms/{natoms}/{natoms}_atoms.pkl\",\n",
    "              input_path=f'./data/natoms/{natoms}/inputs/',\n",
    "              output_file=f\"./data/output/{natoms}_prediction.npy\",\n",
    "              return_cube=True\n",
    "          )\n",
    "  torch.cuda.empty_cache()\n",
    "  times.append(result['prediction_time'])\n",
    "\n",
    "  print(f\"✓ Real prediction completed:\")\n",
    "  print(f\"  - Filename: {result['filename']}\")\n",
    "  print(f\"  - Grid shape: {result['grid_shape']}\")\n",
    "  print(f\"  - Prediction time: {result['prediction_time']:.3f}s\")\n",
    "  print(f\"  - Note: {result['note']}\")\n",
    "\n",
    "  pkl_to_chgcar = PklToChgcarConverter()\n",
    "  pkl_to_chgcar.convert_and_save(\n",
    "      density_file=f\"./data/output/{natoms}_prediction.npy\",\n",
    "      atoms_file=f\"./data/natoms/{natoms}/{natoms}_atoms.pkl\",\n",
    "      output_file=f\"/content/ElDensiago///data/output/{natoms}_prediction.CHGCAR\"\n",
    "  )\n",
    "  print(\"✓ Real prediction converted to CHGCAR format\")\n",
    "  print('='*10)\n",
    "\n"
   ]
  }
 ],
 "metadata": {
  "kernelspec": {
   "display_name": "Python 3",
   "language": "python",
   "name": "python3"
  },
  "language_info": {
   "codemirror_mode": {
    "name": "ipython",
    "version": 3
   },
   "file_extension": ".py",
   "mimetype": "text/x-python",
   "name": "python",
   "nbconvert_exporter": "python",
   "pygments_lexer": "ipython3",
   "version": "3.12.11"
  }
 },
 "nbformat": 4,
 "nbformat_minor": 5
}
