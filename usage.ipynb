{
 "cells": [
  {
   "cell_type": "code",
   "execution_count": 5,
   "id": "1dff406e",
   "metadata": {},
   "outputs": [],
   "source": [
    "from guess import MlDensity"
   ]
  },
  {
   "cell_type": "code",
   "execution_count": 7,
   "id": "742f9c5b",
   "metadata": {},
   "outputs": [
    {
     "name": "stderr",
     "output_type": "stream",
     "text": [
      "2025-08-06 08:08:51,759 [INFO ]  Model 'nmc_schnet' loaded successfully from /app/guess/pretrained_models/nmc_schnet/\n",
      "2025-08-06 08:08:51,763 [INFO ]  Starting prediction for example/batio3.xyz\n",
      "Predicting density...: 3200it [03:54, 13.62it/s]\n",
      "2025-08-06 08:12:46,890 [INFO ]  Prediction done. Time elapsed: 235.12 seconds\n",
      "2025-08-06 08:12:46,995 [INFO ]  Saved predicted density to CHGCAR at ./model_prediction/CHGCAR\n"
     ]
    }
   ],
   "source": [
    "predictor = MlDensity(model='nmc_schnet', device='cpu', grid_step=0.1, probe_count=20, force_pbc=True)\n",
    "predictor.predict('example/batio3.xyz')"
   ]
  },
  {
   "cell_type": "code",
   "execution_count": null,
   "id": "69fbad5b",
   "metadata": {},
   "outputs": [],
   "source": []
  }
 ],
 "metadata": {
  "kernelspec": {
   "display_name": "Python 3",
   "language": "python",
   "name": "python3"
  },
  "language_info": {
   "codemirror_mode": {
    "name": "ipython",
    "version": 3
   },
   "file_extension": ".py",
   "mimetype": "text/x-python",
   "name": "python",
   "nbconvert_exporter": "python",
   "pygments_lexer": "ipython3",
   "version": "3.10.12"
  }
 },
 "nbformat": 4,
 "nbformat_minor": 5
}
