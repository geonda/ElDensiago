{
 "cells": [
  {
   "cell_type": "code",
   "execution_count": null,
   "id": "1dff406e",
   "metadata": {},
   "outputs": [],
   "source": [
    "from guess import MlDensity"
   ]
  },
  {
   "cell_type": "code",
   "execution_count": null,
   "id": "742f9c5b",
   "metadata": {},
   "outputs": [],
   "source": [
    "predictor = MlDensity(model='nmc_schnet', device='cpu', grid_step=0.5, probe_count=10, force_pbc=True)\n",
    "predictor.predict('test/batio3.xyz')"
   ]
  }
 ],
 "metadata": {
  "language_info": {
   "name": "python"
  }
 },
 "nbformat": 4,
 "nbformat_minor": 5
}
